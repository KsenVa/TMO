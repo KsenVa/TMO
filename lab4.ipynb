{
 "cells": [
  {
   "cell_type": "markdown",
   "metadata": {},
   "source": [
    "# Лабораторная работа №4"
   ]
  },
  {
   "cell_type": "code",
   "execution_count": 271,
   "metadata": {
    "_cell_guid": "79c7e3d0-c299-4dcb-8224-4455121ee9b0",
    "_uuid": "d629ff2d2480ee46fbb7e2d37f6b5fab8052498a"
   },
   "outputs": [],
   "source": [
    "import numpy as np\n",
    "import pandas as pd\n",
    "from sklearn.model_selection import train_test_split,KFold,cross_val_score\n",
    "from sklearn.linear_model import LogisticRegression\n",
    "from sklearn.tree import DecisionTreeClassifier\n",
    "from sklearn.neighbors import KNeighborsClassifier\n",
    "from sklearn.naive_bayes import GaussianNB\n",
    "from sklearn.svm import SVC\n",
    "import matplotlib.pyplot as plt"
   ]
  },
  {
   "cell_type": "code",
   "execution_count": 272,
   "metadata": {},
   "outputs": [
    {
     "data": {
      "text/html": [
       "<div>\n",
       "<style scoped>\n",
       "    .dataframe tbody tr th:only-of-type {\n",
       "        vertical-align: middle;\n",
       "    }\n",
       "\n",
       "    .dataframe tbody tr th {\n",
       "        vertical-align: top;\n",
       "    }\n",
       "\n",
       "    .dataframe thead th {\n",
       "        text-align: right;\n",
       "    }\n",
       "</style>\n",
       "<table border=\"1\" class=\"dataframe\">\n",
       "  <thead>\n",
       "    <tr style=\"text-align: right;\">\n",
       "      <th></th>\n",
       "      <th>male</th>\n",
       "      <th>age</th>\n",
       "      <th>education</th>\n",
       "      <th>currentSmoker</th>\n",
       "      <th>cigsPerDay</th>\n",
       "      <th>BPMeds</th>\n",
       "      <th>prevalentStroke</th>\n",
       "      <th>prevalentHyp</th>\n",
       "      <th>diabetes</th>\n",
       "      <th>totChol</th>\n",
       "      <th>sysBP</th>\n",
       "      <th>diaBP</th>\n",
       "      <th>BMI</th>\n",
       "      <th>heartRate</th>\n",
       "      <th>glucose</th>\n",
       "      <th>TenYearCHD</th>\n",
       "    </tr>\n",
       "  </thead>\n",
       "  <tbody>\n",
       "    <tr>\n",
       "      <td>0</td>\n",
       "      <td>1</td>\n",
       "      <td>39</td>\n",
       "      <td>4.0</td>\n",
       "      <td>0</td>\n",
       "      <td>0.0</td>\n",
       "      <td>0.0</td>\n",
       "      <td>0</td>\n",
       "      <td>0</td>\n",
       "      <td>0</td>\n",
       "      <td>195.0</td>\n",
       "      <td>106.0</td>\n",
       "      <td>70.0</td>\n",
       "      <td>26.97</td>\n",
       "      <td>80.0</td>\n",
       "      <td>77.0</td>\n",
       "      <td>0</td>\n",
       "    </tr>\n",
       "    <tr>\n",
       "      <td>1</td>\n",
       "      <td>0</td>\n",
       "      <td>46</td>\n",
       "      <td>2.0</td>\n",
       "      <td>0</td>\n",
       "      <td>0.0</td>\n",
       "      <td>0.0</td>\n",
       "      <td>0</td>\n",
       "      <td>0</td>\n",
       "      <td>0</td>\n",
       "      <td>250.0</td>\n",
       "      <td>121.0</td>\n",
       "      <td>81.0</td>\n",
       "      <td>28.73</td>\n",
       "      <td>95.0</td>\n",
       "      <td>76.0</td>\n",
       "      <td>0</td>\n",
       "    </tr>\n",
       "    <tr>\n",
       "      <td>2</td>\n",
       "      <td>1</td>\n",
       "      <td>48</td>\n",
       "      <td>1.0</td>\n",
       "      <td>1</td>\n",
       "      <td>20.0</td>\n",
       "      <td>0.0</td>\n",
       "      <td>0</td>\n",
       "      <td>0</td>\n",
       "      <td>0</td>\n",
       "      <td>245.0</td>\n",
       "      <td>127.5</td>\n",
       "      <td>80.0</td>\n",
       "      <td>25.34</td>\n",
       "      <td>75.0</td>\n",
       "      <td>70.0</td>\n",
       "      <td>0</td>\n",
       "    </tr>\n",
       "    <tr>\n",
       "      <td>3</td>\n",
       "      <td>0</td>\n",
       "      <td>61</td>\n",
       "      <td>3.0</td>\n",
       "      <td>1</td>\n",
       "      <td>30.0</td>\n",
       "      <td>0.0</td>\n",
       "      <td>0</td>\n",
       "      <td>1</td>\n",
       "      <td>0</td>\n",
       "      <td>225.0</td>\n",
       "      <td>150.0</td>\n",
       "      <td>95.0</td>\n",
       "      <td>28.58</td>\n",
       "      <td>65.0</td>\n",
       "      <td>103.0</td>\n",
       "      <td>1</td>\n",
       "    </tr>\n",
       "    <tr>\n",
       "      <td>4</td>\n",
       "      <td>0</td>\n",
       "      <td>46</td>\n",
       "      <td>3.0</td>\n",
       "      <td>1</td>\n",
       "      <td>23.0</td>\n",
       "      <td>0.0</td>\n",
       "      <td>0</td>\n",
       "      <td>0</td>\n",
       "      <td>0</td>\n",
       "      <td>285.0</td>\n",
       "      <td>130.0</td>\n",
       "      <td>84.0</td>\n",
       "      <td>23.10</td>\n",
       "      <td>85.0</td>\n",
       "      <td>85.0</td>\n",
       "      <td>0</td>\n",
       "    </tr>\n",
       "  </tbody>\n",
       "</table>\n",
       "</div>"
      ],
      "text/plain": [
       "   male  age  education  currentSmoker  cigsPerDay  BPMeds  prevalentStroke  \\\n",
       "0     1   39        4.0              0         0.0     0.0                0   \n",
       "1     0   46        2.0              0         0.0     0.0                0   \n",
       "2     1   48        1.0              1        20.0     0.0                0   \n",
       "3     0   61        3.0              1        30.0     0.0                0   \n",
       "4     0   46        3.0              1        23.0     0.0                0   \n",
       "\n",
       "   prevalentHyp  diabetes  totChol  sysBP  diaBP    BMI  heartRate  glucose  \\\n",
       "0             0         0    195.0  106.0   70.0  26.97       80.0     77.0   \n",
       "1             0         0    250.0  121.0   81.0  28.73       95.0     76.0   \n",
       "2             0         0    245.0  127.5   80.0  25.34       75.0     70.0   \n",
       "3             1         0    225.0  150.0   95.0  28.58       65.0    103.0   \n",
       "4             0         0    285.0  130.0   84.0  23.10       85.0     85.0   \n",
       "\n",
       "   TenYearCHD  \n",
       "0           0  \n",
       "1           0  \n",
       "2           0  \n",
       "3           1  \n",
       "4           0  "
      ]
     },
     "execution_count": 272,
     "metadata": {},
     "output_type": "execute_result"
    }
   ],
   "source": [
    "data=pd.read_csv('framingham.csv')\n",
    "data.head()"
   ]
  },
  {
   "cell_type": "code",
   "execution_count": 273,
   "metadata": {},
   "outputs": [
    {
     "data": {
      "text/html": [
       "<div>\n",
       "<style scoped>\n",
       "    .dataframe tbody tr th:only-of-type {\n",
       "        vertical-align: middle;\n",
       "    }\n",
       "\n",
       "    .dataframe tbody tr th {\n",
       "        vertical-align: top;\n",
       "    }\n",
       "\n",
       "    .dataframe thead th {\n",
       "        text-align: right;\n",
       "    }\n",
       "</style>\n",
       "<table border=\"1\" class=\"dataframe\">\n",
       "  <thead>\n",
       "    <tr style=\"text-align: right;\">\n",
       "      <th></th>\n",
       "      <th>sex_male</th>\n",
       "      <th>age</th>\n",
       "      <th>education</th>\n",
       "      <th>currentSmoker</th>\n",
       "      <th>cigsPerDay</th>\n",
       "      <th>BPMeds</th>\n",
       "      <th>prevalentStroke</th>\n",
       "      <th>prevalentHyp</th>\n",
       "      <th>diabetes</th>\n",
       "      <th>totChol</th>\n",
       "      <th>sysBP</th>\n",
       "      <th>diaBP</th>\n",
       "      <th>BMI</th>\n",
       "      <th>heartRate</th>\n",
       "      <th>glucose</th>\n",
       "      <th>TenYearCHD</th>\n",
       "    </tr>\n",
       "  </thead>\n",
       "  <tbody>\n",
       "    <tr>\n",
       "      <td>0</td>\n",
       "      <td>1</td>\n",
       "      <td>39</td>\n",
       "      <td>4.0</td>\n",
       "      <td>0</td>\n",
       "      <td>0.0</td>\n",
       "      <td>0.0</td>\n",
       "      <td>0</td>\n",
       "      <td>0</td>\n",
       "      <td>0</td>\n",
       "      <td>195.0</td>\n",
       "      <td>106.0</td>\n",
       "      <td>70.0</td>\n",
       "      <td>26.97</td>\n",
       "      <td>80.0</td>\n",
       "      <td>77.0</td>\n",
       "      <td>0</td>\n",
       "    </tr>\n",
       "    <tr>\n",
       "      <td>1</td>\n",
       "      <td>0</td>\n",
       "      <td>46</td>\n",
       "      <td>2.0</td>\n",
       "      <td>0</td>\n",
       "      <td>0.0</td>\n",
       "      <td>0.0</td>\n",
       "      <td>0</td>\n",
       "      <td>0</td>\n",
       "      <td>0</td>\n",
       "      <td>250.0</td>\n",
       "      <td>121.0</td>\n",
       "      <td>81.0</td>\n",
       "      <td>28.73</td>\n",
       "      <td>95.0</td>\n",
       "      <td>76.0</td>\n",
       "      <td>0</td>\n",
       "    </tr>\n",
       "    <tr>\n",
       "      <td>2</td>\n",
       "      <td>1</td>\n",
       "      <td>48</td>\n",
       "      <td>1.0</td>\n",
       "      <td>1</td>\n",
       "      <td>20.0</td>\n",
       "      <td>0.0</td>\n",
       "      <td>0</td>\n",
       "      <td>0</td>\n",
       "      <td>0</td>\n",
       "      <td>245.0</td>\n",
       "      <td>127.5</td>\n",
       "      <td>80.0</td>\n",
       "      <td>25.34</td>\n",
       "      <td>75.0</td>\n",
       "      <td>70.0</td>\n",
       "      <td>0</td>\n",
       "    </tr>\n",
       "    <tr>\n",
       "      <td>3</td>\n",
       "      <td>0</td>\n",
       "      <td>61</td>\n",
       "      <td>3.0</td>\n",
       "      <td>1</td>\n",
       "      <td>30.0</td>\n",
       "      <td>0.0</td>\n",
       "      <td>0</td>\n",
       "      <td>1</td>\n",
       "      <td>0</td>\n",
       "      <td>225.0</td>\n",
       "      <td>150.0</td>\n",
       "      <td>95.0</td>\n",
       "      <td>28.58</td>\n",
       "      <td>65.0</td>\n",
       "      <td>103.0</td>\n",
       "      <td>1</td>\n",
       "    </tr>\n",
       "    <tr>\n",
       "      <td>4</td>\n",
       "      <td>0</td>\n",
       "      <td>46</td>\n",
       "      <td>3.0</td>\n",
       "      <td>1</td>\n",
       "      <td>23.0</td>\n",
       "      <td>0.0</td>\n",
       "      <td>0</td>\n",
       "      <td>0</td>\n",
       "      <td>0</td>\n",
       "      <td>285.0</td>\n",
       "      <td>130.0</td>\n",
       "      <td>84.0</td>\n",
       "      <td>23.10</td>\n",
       "      <td>85.0</td>\n",
       "      <td>85.0</td>\n",
       "      <td>0</td>\n",
       "    </tr>\n",
       "  </tbody>\n",
       "</table>\n",
       "</div>"
      ],
      "text/plain": [
       "   sex_male  age  education  currentSmoker  cigsPerDay  BPMeds  \\\n",
       "0         1   39        4.0              0         0.0     0.0   \n",
       "1         0   46        2.0              0         0.0     0.0   \n",
       "2         1   48        1.0              1        20.0     0.0   \n",
       "3         0   61        3.0              1        30.0     0.0   \n",
       "4         0   46        3.0              1        23.0     0.0   \n",
       "\n",
       "   prevalentStroke  prevalentHyp  diabetes  totChol  sysBP  diaBP    BMI  \\\n",
       "0                0             0         0    195.0  106.0   70.0  26.97   \n",
       "1                0             0         0    250.0  121.0   81.0  28.73   \n",
       "2                0             0         0    245.0  127.5   80.0  25.34   \n",
       "3                0             1         0    225.0  150.0   95.0  28.58   \n",
       "4                0             0         0    285.0  130.0   84.0  23.10   \n",
       "\n",
       "   heartRate  glucose  TenYearCHD  \n",
       "0       80.0     77.0           0  \n",
       "1       95.0     76.0           0  \n",
       "2       75.0     70.0           0  \n",
       "3       65.0    103.0           1  \n",
       "4       85.0     85.0           0  "
      ]
     },
     "execution_count": 273,
     "metadata": {},
     "output_type": "execute_result"
    }
   ],
   "source": [
    "data.rename(columns={'male':'sex_male'},inplace=True)\n",
    "data.head()"
   ]
  },
  {
   "cell_type": "code",
   "execution_count": 274,
   "metadata": {},
   "outputs": [
    {
     "data": {
      "text/plain": [
       "Index(['sex_male', 'age', 'education', 'currentSmoker', 'cigsPerDay', 'BPMeds',\n",
       "       'prevalentStroke', 'prevalentHyp', 'diabetes', 'totChol', 'sysBP',\n",
       "       'diaBP', 'BMI', 'heartRate', 'glucose', 'TenYearCHD'],\n",
       "      dtype='object')"
      ]
     },
     "execution_count": 274,
     "metadata": {},
     "output_type": "execute_result"
    }
   ],
   "source": [
    "data.columns"
   ]
  },
  {
   "cell_type": "code",
   "execution_count": 275,
   "metadata": {},
   "outputs": [
    {
     "data": {
      "text/plain": [
       "sex_male             0\n",
       "age                  0\n",
       "education          105\n",
       "currentSmoker        0\n",
       "cigsPerDay          29\n",
       "BPMeds              53\n",
       "prevalentStroke      0\n",
       "prevalentHyp         0\n",
       "diabetes             0\n",
       "totChol             50\n",
       "sysBP                0\n",
       "diaBP                0\n",
       "BMI                 19\n",
       "heartRate            1\n",
       "glucose            388\n",
       "TenYearCHD           0\n",
       "dtype: int64"
      ]
     },
     "execution_count": 275,
     "metadata": {},
     "output_type": "execute_result"
    }
   ],
   "source": [
    "data.isnull().sum()"
   ]
  },
  {
   "cell_type": "code",
   "execution_count": 276,
   "metadata": {},
   "outputs": [
    {
     "data": {
      "text/plain": [
       "67808"
      ]
     },
     "execution_count": 276,
     "metadata": {},
     "output_type": "execute_result"
    }
   ],
   "source": [
    "data.size"
   ]
  },
  {
   "cell_type": "code",
   "execution_count": 277,
   "metadata": {},
   "outputs": [
    {
     "data": {
      "text/plain": [
       "sex_male           0\n",
       "age                0\n",
       "education          0\n",
       "currentSmoker      0\n",
       "cigsPerDay         0\n",
       "BPMeds             0\n",
       "prevalentStroke    0\n",
       "prevalentHyp       0\n",
       "diabetes           0\n",
       "totChol            0\n",
       "sysBP              0\n",
       "diaBP              0\n",
       "BMI                0\n",
       "heartRate          0\n",
       "glucose            0\n",
       "TenYearCHD         0\n",
       "dtype: int64"
      ]
     },
     "execution_count": 277,
     "metadata": {},
     "output_type": "execute_result"
    }
   ],
   "source": [
    "data=data.dropna()\n",
    "data.isnull().sum()"
   ]
  },
  {
   "cell_type": "code",
   "execution_count": 278,
   "metadata": {},
   "outputs": [
    {
     "data": {
      "text/html": [
       "<div>\n",
       "<style scoped>\n",
       "    .dataframe tbody tr th:only-of-type {\n",
       "        vertical-align: middle;\n",
       "    }\n",
       "\n",
       "    .dataframe tbody tr th {\n",
       "        vertical-align: top;\n",
       "    }\n",
       "\n",
       "    .dataframe thead th {\n",
       "        text-align: right;\n",
       "    }\n",
       "</style>\n",
       "<table border=\"1\" class=\"dataframe\">\n",
       "  <thead>\n",
       "    <tr style=\"text-align: right;\">\n",
       "      <th></th>\n",
       "      <th>sex_male</th>\n",
       "      <th>age</th>\n",
       "      <th>education</th>\n",
       "      <th>currentSmoker</th>\n",
       "      <th>cigsPerDay</th>\n",
       "      <th>BPMeds</th>\n",
       "      <th>prevalentStroke</th>\n",
       "      <th>prevalentHyp</th>\n",
       "      <th>diabetes</th>\n",
       "      <th>totChol</th>\n",
       "      <th>sysBP</th>\n",
       "      <th>diaBP</th>\n",
       "      <th>BMI</th>\n",
       "      <th>heartRate</th>\n",
       "      <th>glucose</th>\n",
       "      <th>TenYearCHD</th>\n",
       "    </tr>\n",
       "  </thead>\n",
       "  <tbody>\n",
       "    <tr>\n",
       "      <td>sex_male</td>\n",
       "      <td>1.000000</td>\n",
       "      <td>-0.024387</td>\n",
       "      <td>0.017677</td>\n",
       "      <td>0.206778</td>\n",
       "      <td>0.331243</td>\n",
       "      <td>-0.052128</td>\n",
       "      <td>-0.002308</td>\n",
       "      <td>0.000806</td>\n",
       "      <td>0.013833</td>\n",
       "      <td>-0.070229</td>\n",
       "      <td>-0.045484</td>\n",
       "      <td>0.051575</td>\n",
       "      <td>0.072867</td>\n",
       "      <td>-0.114923</td>\n",
       "      <td>0.003048</td>\n",
       "      <td>0.091745</td>\n",
       "    </tr>\n",
       "    <tr>\n",
       "      <td>age</td>\n",
       "      <td>-0.024387</td>\n",
       "      <td>1.000000</td>\n",
       "      <td>-0.158961</td>\n",
       "      <td>-0.210862</td>\n",
       "      <td>-0.189099</td>\n",
       "      <td>0.134670</td>\n",
       "      <td>0.050864</td>\n",
       "      <td>0.306693</td>\n",
       "      <td>0.109027</td>\n",
       "      <td>0.267764</td>\n",
       "      <td>0.388551</td>\n",
       "      <td>0.208880</td>\n",
       "      <td>0.137172</td>\n",
       "      <td>-0.002685</td>\n",
       "      <td>0.118245</td>\n",
       "      <td>0.233810</td>\n",
       "    </tr>\n",
       "    <tr>\n",
       "      <td>education</td>\n",
       "      <td>0.017677</td>\n",
       "      <td>-0.158961</td>\n",
       "      <td>1.000000</td>\n",
       "      <td>0.025253</td>\n",
       "      <td>0.013527</td>\n",
       "      <td>-0.013647</td>\n",
       "      <td>-0.030353</td>\n",
       "      <td>-0.079100</td>\n",
       "      <td>-0.039547</td>\n",
       "      <td>-0.012956</td>\n",
       "      <td>-0.124511</td>\n",
       "      <td>-0.058502</td>\n",
       "      <td>-0.137280</td>\n",
       "      <td>-0.064254</td>\n",
       "      <td>-0.031874</td>\n",
       "      <td>-0.063068</td>\n",
       "    </tr>\n",
       "    <tr>\n",
       "      <td>currentSmoker</td>\n",
       "      <td>0.206778</td>\n",
       "      <td>-0.210862</td>\n",
       "      <td>0.025253</td>\n",
       "      <td>1.000000</td>\n",
       "      <td>0.773819</td>\n",
       "      <td>-0.051936</td>\n",
       "      <td>-0.038159</td>\n",
       "      <td>-0.107561</td>\n",
       "      <td>-0.041859</td>\n",
       "      <td>-0.051119</td>\n",
       "      <td>-0.134371</td>\n",
       "      <td>-0.115748</td>\n",
       "      <td>-0.159574</td>\n",
       "      <td>0.050452</td>\n",
       "      <td>-0.053346</td>\n",
       "      <td>0.019176</td>\n",
       "    </tr>\n",
       "    <tr>\n",
       "      <td>cigsPerDay</td>\n",
       "      <td>0.331243</td>\n",
       "      <td>-0.189099</td>\n",
       "      <td>0.013527</td>\n",
       "      <td>0.773819</td>\n",
       "      <td>1.000000</td>\n",
       "      <td>-0.046479</td>\n",
       "      <td>-0.036283</td>\n",
       "      <td>-0.069890</td>\n",
       "      <td>-0.036934</td>\n",
       "      <td>-0.030222</td>\n",
       "      <td>-0.094764</td>\n",
       "      <td>-0.056650</td>\n",
       "      <td>-0.086888</td>\n",
       "      <td>0.063549</td>\n",
       "      <td>-0.053803</td>\n",
       "      <td>0.052159</td>\n",
       "    </tr>\n",
       "    <tr>\n",
       "      <td>BPMeds</td>\n",
       "      <td>-0.052128</td>\n",
       "      <td>0.134670</td>\n",
       "      <td>-0.013647</td>\n",
       "      <td>-0.051936</td>\n",
       "      <td>-0.046479</td>\n",
       "      <td>1.000000</td>\n",
       "      <td>0.113119</td>\n",
       "      <td>0.263047</td>\n",
       "      <td>0.049051</td>\n",
       "      <td>0.094011</td>\n",
       "      <td>0.271291</td>\n",
       "      <td>0.199750</td>\n",
       "      <td>0.105603</td>\n",
       "      <td>0.012894</td>\n",
       "      <td>0.054210</td>\n",
       "      <td>0.089116</td>\n",
       "    </tr>\n",
       "    <tr>\n",
       "      <td>prevalentStroke</td>\n",
       "      <td>-0.002308</td>\n",
       "      <td>0.050864</td>\n",
       "      <td>-0.030353</td>\n",
       "      <td>-0.038159</td>\n",
       "      <td>-0.036283</td>\n",
       "      <td>0.113119</td>\n",
       "      <td>1.000000</td>\n",
       "      <td>0.066098</td>\n",
       "      <td>0.009619</td>\n",
       "      <td>0.012697</td>\n",
       "      <td>0.061080</td>\n",
       "      <td>0.055878</td>\n",
       "      <td>0.036478</td>\n",
       "      <td>-0.017020</td>\n",
       "      <td>0.016051</td>\n",
       "      <td>0.048351</td>\n",
       "    </tr>\n",
       "    <tr>\n",
       "      <td>prevalentHyp</td>\n",
       "      <td>0.000806</td>\n",
       "      <td>0.306693</td>\n",
       "      <td>-0.079100</td>\n",
       "      <td>-0.107561</td>\n",
       "      <td>-0.069890</td>\n",
       "      <td>0.263047</td>\n",
       "      <td>0.066098</td>\n",
       "      <td>1.000000</td>\n",
       "      <td>0.080623</td>\n",
       "      <td>0.167074</td>\n",
       "      <td>0.697790</td>\n",
       "      <td>0.617634</td>\n",
       "      <td>0.302917</td>\n",
       "      <td>0.147333</td>\n",
       "      <td>0.087129</td>\n",
       "      <td>0.181556</td>\n",
       "    </tr>\n",
       "    <tr>\n",
       "      <td>diabetes</td>\n",
       "      <td>0.013833</td>\n",
       "      <td>0.109027</td>\n",
       "      <td>-0.039547</td>\n",
       "      <td>-0.041859</td>\n",
       "      <td>-0.036934</td>\n",
       "      <td>0.049051</td>\n",
       "      <td>0.009619</td>\n",
       "      <td>0.080623</td>\n",
       "      <td>1.000000</td>\n",
       "      <td>0.048371</td>\n",
       "      <td>0.102574</td>\n",
       "      <td>0.050767</td>\n",
       "      <td>0.088970</td>\n",
       "      <td>0.060996</td>\n",
       "      <td>0.614817</td>\n",
       "      <td>0.093397</td>\n",
       "    </tr>\n",
       "    <tr>\n",
       "      <td>totChol</td>\n",
       "      <td>-0.070229</td>\n",
       "      <td>0.267764</td>\n",
       "      <td>-0.012956</td>\n",
       "      <td>-0.051119</td>\n",
       "      <td>-0.030222</td>\n",
       "      <td>0.094011</td>\n",
       "      <td>0.012697</td>\n",
       "      <td>0.167074</td>\n",
       "      <td>0.048371</td>\n",
       "      <td>1.000000</td>\n",
       "      <td>0.220130</td>\n",
       "      <td>0.174986</td>\n",
       "      <td>0.120799</td>\n",
       "      <td>0.093057</td>\n",
       "      <td>0.049749</td>\n",
       "      <td>0.091127</td>\n",
       "    </tr>\n",
       "    <tr>\n",
       "      <td>sysBP</td>\n",
       "      <td>-0.045484</td>\n",
       "      <td>0.388551</td>\n",
       "      <td>-0.124511</td>\n",
       "      <td>-0.134371</td>\n",
       "      <td>-0.094764</td>\n",
       "      <td>0.271291</td>\n",
       "      <td>0.061080</td>\n",
       "      <td>0.697790</td>\n",
       "      <td>0.102574</td>\n",
       "      <td>0.220130</td>\n",
       "      <td>1.000000</td>\n",
       "      <td>0.786727</td>\n",
       "      <td>0.331004</td>\n",
       "      <td>0.184901</td>\n",
       "      <td>0.134702</td>\n",
       "      <td>0.222885</td>\n",
       "    </tr>\n",
       "    <tr>\n",
       "      <td>diaBP</td>\n",
       "      <td>0.051575</td>\n",
       "      <td>0.208880</td>\n",
       "      <td>-0.058502</td>\n",
       "      <td>-0.115748</td>\n",
       "      <td>-0.056650</td>\n",
       "      <td>0.199750</td>\n",
       "      <td>0.055878</td>\n",
       "      <td>0.617634</td>\n",
       "      <td>0.050767</td>\n",
       "      <td>0.174986</td>\n",
       "      <td>0.786727</td>\n",
       "      <td>1.000000</td>\n",
       "      <td>0.385611</td>\n",
       "      <td>0.179008</td>\n",
       "      <td>0.063704</td>\n",
       "      <td>0.150342</td>\n",
       "    </tr>\n",
       "    <tr>\n",
       "      <td>BMI</td>\n",
       "      <td>0.072867</td>\n",
       "      <td>0.137172</td>\n",
       "      <td>-0.137280</td>\n",
       "      <td>-0.159574</td>\n",
       "      <td>-0.086888</td>\n",
       "      <td>0.105603</td>\n",
       "      <td>0.036478</td>\n",
       "      <td>0.302917</td>\n",
       "      <td>0.088970</td>\n",
       "      <td>0.120799</td>\n",
       "      <td>0.331004</td>\n",
       "      <td>0.385611</td>\n",
       "      <td>1.000000</td>\n",
       "      <td>0.074401</td>\n",
       "      <td>0.083671</td>\n",
       "      <td>0.081931</td>\n",
       "    </tr>\n",
       "    <tr>\n",
       "      <td>heartRate</td>\n",
       "      <td>-0.114923</td>\n",
       "      <td>-0.002685</td>\n",
       "      <td>-0.064254</td>\n",
       "      <td>0.050452</td>\n",
       "      <td>0.063549</td>\n",
       "      <td>0.012894</td>\n",
       "      <td>-0.017020</td>\n",
       "      <td>0.147333</td>\n",
       "      <td>0.060996</td>\n",
       "      <td>0.093057</td>\n",
       "      <td>0.184901</td>\n",
       "      <td>0.179008</td>\n",
       "      <td>0.074401</td>\n",
       "      <td>1.000000</td>\n",
       "      <td>0.097026</td>\n",
       "      <td>0.020523</td>\n",
       "    </tr>\n",
       "    <tr>\n",
       "      <td>glucose</td>\n",
       "      <td>0.003048</td>\n",
       "      <td>0.118245</td>\n",
       "      <td>-0.031874</td>\n",
       "      <td>-0.053346</td>\n",
       "      <td>-0.053803</td>\n",
       "      <td>0.054210</td>\n",
       "      <td>0.016051</td>\n",
       "      <td>0.087129</td>\n",
       "      <td>0.614817</td>\n",
       "      <td>0.049749</td>\n",
       "      <td>0.134702</td>\n",
       "      <td>0.063704</td>\n",
       "      <td>0.083671</td>\n",
       "      <td>0.097026</td>\n",
       "      <td>1.000000</td>\n",
       "      <td>0.121942</td>\n",
       "    </tr>\n",
       "    <tr>\n",
       "      <td>TenYearCHD</td>\n",
       "      <td>0.091745</td>\n",
       "      <td>0.233810</td>\n",
       "      <td>-0.063068</td>\n",
       "      <td>0.019176</td>\n",
       "      <td>0.052159</td>\n",
       "      <td>0.089116</td>\n",
       "      <td>0.048351</td>\n",
       "      <td>0.181556</td>\n",
       "      <td>0.093397</td>\n",
       "      <td>0.091127</td>\n",
       "      <td>0.222885</td>\n",
       "      <td>0.150342</td>\n",
       "      <td>0.081931</td>\n",
       "      <td>0.020523</td>\n",
       "      <td>0.121942</td>\n",
       "      <td>1.000000</td>\n",
       "    </tr>\n",
       "  </tbody>\n",
       "</table>\n",
       "</div>"
      ],
      "text/plain": [
       "                 sex_male       age  education  currentSmoker  cigsPerDay  \\\n",
       "sex_male         1.000000 -0.024387   0.017677       0.206778    0.331243   \n",
       "age             -0.024387  1.000000  -0.158961      -0.210862   -0.189099   \n",
       "education        0.017677 -0.158961   1.000000       0.025253    0.013527   \n",
       "currentSmoker    0.206778 -0.210862   0.025253       1.000000    0.773819   \n",
       "cigsPerDay       0.331243 -0.189099   0.013527       0.773819    1.000000   \n",
       "BPMeds          -0.052128  0.134670  -0.013647      -0.051936   -0.046479   \n",
       "prevalentStroke -0.002308  0.050864  -0.030353      -0.038159   -0.036283   \n",
       "prevalentHyp     0.000806  0.306693  -0.079100      -0.107561   -0.069890   \n",
       "diabetes         0.013833  0.109027  -0.039547      -0.041859   -0.036934   \n",
       "totChol         -0.070229  0.267764  -0.012956      -0.051119   -0.030222   \n",
       "sysBP           -0.045484  0.388551  -0.124511      -0.134371   -0.094764   \n",
       "diaBP            0.051575  0.208880  -0.058502      -0.115748   -0.056650   \n",
       "BMI              0.072867  0.137172  -0.137280      -0.159574   -0.086888   \n",
       "heartRate       -0.114923 -0.002685  -0.064254       0.050452    0.063549   \n",
       "glucose          0.003048  0.118245  -0.031874      -0.053346   -0.053803   \n",
       "TenYearCHD       0.091745  0.233810  -0.063068       0.019176    0.052159   \n",
       "\n",
       "                   BPMeds  prevalentStroke  prevalentHyp  diabetes   totChol  \\\n",
       "sex_male        -0.052128        -0.002308      0.000806  0.013833 -0.070229   \n",
       "age              0.134670         0.050864      0.306693  0.109027  0.267764   \n",
       "education       -0.013647        -0.030353     -0.079100 -0.039547 -0.012956   \n",
       "currentSmoker   -0.051936        -0.038159     -0.107561 -0.041859 -0.051119   \n",
       "cigsPerDay      -0.046479        -0.036283     -0.069890 -0.036934 -0.030222   \n",
       "BPMeds           1.000000         0.113119      0.263047  0.049051  0.094011   \n",
       "prevalentStroke  0.113119         1.000000      0.066098  0.009619  0.012697   \n",
       "prevalentHyp     0.263047         0.066098      1.000000  0.080623  0.167074   \n",
       "diabetes         0.049051         0.009619      0.080623  1.000000  0.048371   \n",
       "totChol          0.094011         0.012697      0.167074  0.048371  1.000000   \n",
       "sysBP            0.271291         0.061080      0.697790  0.102574  0.220130   \n",
       "diaBP            0.199750         0.055878      0.617634  0.050767  0.174986   \n",
       "BMI              0.105603         0.036478      0.302917  0.088970  0.120799   \n",
       "heartRate        0.012894        -0.017020      0.147333  0.060996  0.093057   \n",
       "glucose          0.054210         0.016051      0.087129  0.614817  0.049749   \n",
       "TenYearCHD       0.089116         0.048351      0.181556  0.093397  0.091127   \n",
       "\n",
       "                    sysBP     diaBP       BMI  heartRate   glucose  TenYearCHD  \n",
       "sex_male        -0.045484  0.051575  0.072867  -0.114923  0.003048    0.091745  \n",
       "age              0.388551  0.208880  0.137172  -0.002685  0.118245    0.233810  \n",
       "education       -0.124511 -0.058502 -0.137280  -0.064254 -0.031874   -0.063068  \n",
       "currentSmoker   -0.134371 -0.115748 -0.159574   0.050452 -0.053346    0.019176  \n",
       "cigsPerDay      -0.094764 -0.056650 -0.086888   0.063549 -0.053803    0.052159  \n",
       "BPMeds           0.271291  0.199750  0.105603   0.012894  0.054210    0.089116  \n",
       "prevalentStroke  0.061080  0.055878  0.036478  -0.017020  0.016051    0.048351  \n",
       "prevalentHyp     0.697790  0.617634  0.302917   0.147333  0.087129    0.181556  \n",
       "diabetes         0.102574  0.050767  0.088970   0.060996  0.614817    0.093397  \n",
       "totChol          0.220130  0.174986  0.120799   0.093057  0.049749    0.091127  \n",
       "sysBP            1.000000  0.786727  0.331004   0.184901  0.134702    0.222885  \n",
       "diaBP            0.786727  1.000000  0.385611   0.179008  0.063704    0.150342  \n",
       "BMI              0.331004  0.385611  1.000000   0.074401  0.083671    0.081931  \n",
       "heartRate        0.184901  0.179008  0.074401   1.000000  0.097026    0.020523  \n",
       "glucose          0.134702  0.063704  0.083671   0.097026  1.000000    0.121942  \n",
       "TenYearCHD       0.222885  0.150342  0.081931   0.020523  0.121942    1.000000  "
      ]
     },
     "execution_count": 278,
     "metadata": {},
     "output_type": "execute_result"
    }
   ],
   "source": [
    "data.corr()"
   ]
  },
  {
   "cell_type": "code",
   "execution_count": 279,
   "metadata": {},
   "outputs": [
    {
     "name": "stdout",
     "output_type": "stream",
     "text": [
      "TenYearCHD\n",
      "0    3099\n",
      "1     557\n",
      "dtype: int64\n"
     ]
    }
   ],
   "source": [
    "print(data.groupby('TenYearCHD').size())"
   ]
  },
  {
   "cell_type": "code",
   "execution_count": 280,
   "metadata": {},
   "outputs": [
    {
     "data": {
      "text/html": [
       "<div>\n",
       "<style scoped>\n",
       "    .dataframe tbody tr th:only-of-type {\n",
       "        vertical-align: middle;\n",
       "    }\n",
       "\n",
       "    .dataframe tbody tr th {\n",
       "        vertical-align: top;\n",
       "    }\n",
       "\n",
       "    .dataframe thead th {\n",
       "        text-align: right;\n",
       "    }\n",
       "</style>\n",
       "<table border=\"1\" class=\"dataframe\">\n",
       "  <thead>\n",
       "    <tr style=\"text-align: right;\">\n",
       "      <th></th>\n",
       "      <th>sex_male</th>\n",
       "      <th>age</th>\n",
       "      <th>education</th>\n",
       "      <th>currentSmoker</th>\n",
       "      <th>cigsPerDay</th>\n",
       "      <th>BPMeds</th>\n",
       "      <th>prevalentStroke</th>\n",
       "      <th>prevalentHyp</th>\n",
       "      <th>diabetes</th>\n",
       "      <th>totChol</th>\n",
       "      <th>sysBP</th>\n",
       "      <th>diaBP</th>\n",
       "      <th>BMI</th>\n",
       "      <th>heartRate</th>\n",
       "      <th>glucose</th>\n",
       "    </tr>\n",
       "  </thead>\n",
       "  <tbody>\n",
       "    <tr>\n",
       "      <td>0</td>\n",
       "      <td>1</td>\n",
       "      <td>39</td>\n",
       "      <td>4.0</td>\n",
       "      <td>0</td>\n",
       "      <td>0.0</td>\n",
       "      <td>0.0</td>\n",
       "      <td>0</td>\n",
       "      <td>0</td>\n",
       "      <td>0</td>\n",
       "      <td>195.0</td>\n",
       "      <td>106.0</td>\n",
       "      <td>70.0</td>\n",
       "      <td>26.97</td>\n",
       "      <td>80.0</td>\n",
       "      <td>77.0</td>\n",
       "    </tr>\n",
       "    <tr>\n",
       "      <td>1</td>\n",
       "      <td>0</td>\n",
       "      <td>46</td>\n",
       "      <td>2.0</td>\n",
       "      <td>0</td>\n",
       "      <td>0.0</td>\n",
       "      <td>0.0</td>\n",
       "      <td>0</td>\n",
       "      <td>0</td>\n",
       "      <td>0</td>\n",
       "      <td>250.0</td>\n",
       "      <td>121.0</td>\n",
       "      <td>81.0</td>\n",
       "      <td>28.73</td>\n",
       "      <td>95.0</td>\n",
       "      <td>76.0</td>\n",
       "    </tr>\n",
       "    <tr>\n",
       "      <td>2</td>\n",
       "      <td>1</td>\n",
       "      <td>48</td>\n",
       "      <td>1.0</td>\n",
       "      <td>1</td>\n",
       "      <td>20.0</td>\n",
       "      <td>0.0</td>\n",
       "      <td>0</td>\n",
       "      <td>0</td>\n",
       "      <td>0</td>\n",
       "      <td>245.0</td>\n",
       "      <td>127.5</td>\n",
       "      <td>80.0</td>\n",
       "      <td>25.34</td>\n",
       "      <td>75.0</td>\n",
       "      <td>70.0</td>\n",
       "    </tr>\n",
       "    <tr>\n",
       "      <td>3</td>\n",
       "      <td>0</td>\n",
       "      <td>61</td>\n",
       "      <td>3.0</td>\n",
       "      <td>1</td>\n",
       "      <td>30.0</td>\n",
       "      <td>0.0</td>\n",
       "      <td>0</td>\n",
       "      <td>1</td>\n",
       "      <td>0</td>\n",
       "      <td>225.0</td>\n",
       "      <td>150.0</td>\n",
       "      <td>95.0</td>\n",
       "      <td>28.58</td>\n",
       "      <td>65.0</td>\n",
       "      <td>103.0</td>\n",
       "    </tr>\n",
       "    <tr>\n",
       "      <td>4</td>\n",
       "      <td>0</td>\n",
       "      <td>46</td>\n",
       "      <td>3.0</td>\n",
       "      <td>1</td>\n",
       "      <td>23.0</td>\n",
       "      <td>0.0</td>\n",
       "      <td>0</td>\n",
       "      <td>0</td>\n",
       "      <td>0</td>\n",
       "      <td>285.0</td>\n",
       "      <td>130.0</td>\n",
       "      <td>84.0</td>\n",
       "      <td>23.10</td>\n",
       "      <td>85.0</td>\n",
       "      <td>85.0</td>\n",
       "    </tr>\n",
       "  </tbody>\n",
       "</table>\n",
       "</div>"
      ],
      "text/plain": [
       "   sex_male  age  education  currentSmoker  cigsPerDay  BPMeds  \\\n",
       "0         1   39        4.0              0         0.0     0.0   \n",
       "1         0   46        2.0              0         0.0     0.0   \n",
       "2         1   48        1.0              1        20.0     0.0   \n",
       "3         0   61        3.0              1        30.0     0.0   \n",
       "4         0   46        3.0              1        23.0     0.0   \n",
       "\n",
       "   prevalentStroke  prevalentHyp  diabetes  totChol  sysBP  diaBP    BMI  \\\n",
       "0                0             0         0    195.0  106.0   70.0  26.97   \n",
       "1                0             0         0    250.0  121.0   81.0  28.73   \n",
       "2                0             0         0    245.0  127.5   80.0  25.34   \n",
       "3                0             1         0    225.0  150.0   95.0  28.58   \n",
       "4                0             0         0    285.0  130.0   84.0  23.10   \n",
       "\n",
       "   heartRate  glucose  \n",
       "0       80.0     77.0  \n",
       "1       95.0     76.0  \n",
       "2       75.0     70.0  \n",
       "3       65.0    103.0  \n",
       "4       85.0     85.0  "
      ]
     },
     "execution_count": 280,
     "metadata": {},
     "output_type": "execute_result"
    }
   ],
   "source": [
    "X=data[data.columns]\n",
    "X=X.drop(columns=['TenYearCHD'])\n",
    "X.head()"
   ]
  },
  {
   "cell_type": "code",
   "execution_count": 281,
   "metadata": {},
   "outputs": [
    {
     "data": {
      "text/plain": [
       "0    0\n",
       "1    0\n",
       "2    0\n",
       "3    1\n",
       "4    0\n",
       "Name: TenYearCHD, dtype: int64"
      ]
     },
     "execution_count": 281,
     "metadata": {},
     "output_type": "execute_result"
    }
   ],
   "source": [
    "Y=data['TenYearCHD']\n",
    "Y.head()"
   ]
  },
  {
   "cell_type": "code",
   "execution_count": 282,
   "metadata": {},
   "outputs": [
    {
     "name": "stdout",
     "output_type": "stream",
     "text": [
      "[ 17.12043013 295.50776101   7.67979651   0.68691311 156.56731824\n",
      "  28.15300258   8.49782271  82.96718408  31.02798685 249.15307765\n",
      " 669.50655224 142.87857382  15.73071703   2.91906232 379.58313716]\n"
     ]
    }
   ],
   "source": [
    "from sklearn.feature_selection import SelectKBest,chi2\n",
    "test=SelectKBest(score_func=chi2,k=10)\n",
    "fit=test.fit(X,Y)\n",
    "print(fit.scores_)"
   ]
  },
  {
   "cell_type": "code",
   "execution_count": 283,
   "metadata": {},
   "outputs": [
    {
     "data": {
      "text/plain": [
       "Index(['sex_male', 'age', 'education', 'currentSmoker', 'cigsPerDay', 'BPMeds',\n",
       "       'prevalentStroke', 'prevalentHyp', 'diabetes', 'totChol', 'sysBP',\n",
       "       'diaBP', 'BMI', 'heartRate', 'glucose'],\n",
       "      dtype='object')"
      ]
     },
     "execution_count": 283,
     "metadata": {},
     "output_type": "execute_result"
    }
   ],
   "source": [
    "X.columns"
   ]
  },
  {
   "cell_type": "code",
   "execution_count": 284,
   "metadata": {},
   "outputs": [
    {
     "data": {
      "text/html": [
       "<div>\n",
       "<style scoped>\n",
       "    .dataframe tbody tr th:only-of-type {\n",
       "        vertical-align: middle;\n",
       "    }\n",
       "\n",
       "    .dataframe tbody tr th {\n",
       "        vertical-align: top;\n",
       "    }\n",
       "\n",
       "    .dataframe thead th {\n",
       "        text-align: right;\n",
       "    }\n",
       "</style>\n",
       "<table border=\"1\" class=\"dataframe\">\n",
       "  <thead>\n",
       "    <tr style=\"text-align: right;\">\n",
       "      <th></th>\n",
       "      <th>age</th>\n",
       "      <th>cigsPerDay</th>\n",
       "      <th>totChol</th>\n",
       "      <th>sysBP</th>\n",
       "      <th>diaBP</th>\n",
       "      <th>glucose</th>\n",
       "    </tr>\n",
       "  </thead>\n",
       "  <tbody>\n",
       "    <tr>\n",
       "      <td>0</td>\n",
       "      <td>39</td>\n",
       "      <td>0.0</td>\n",
       "      <td>195.0</td>\n",
       "      <td>106.0</td>\n",
       "      <td>70.0</td>\n",
       "      <td>77.0</td>\n",
       "    </tr>\n",
       "    <tr>\n",
       "      <td>1</td>\n",
       "      <td>46</td>\n",
       "      <td>0.0</td>\n",
       "      <td>250.0</td>\n",
       "      <td>121.0</td>\n",
       "      <td>81.0</td>\n",
       "      <td>76.0</td>\n",
       "    </tr>\n",
       "    <tr>\n",
       "      <td>2</td>\n",
       "      <td>48</td>\n",
       "      <td>20.0</td>\n",
       "      <td>245.0</td>\n",
       "      <td>127.5</td>\n",
       "      <td>80.0</td>\n",
       "      <td>70.0</td>\n",
       "    </tr>\n",
       "    <tr>\n",
       "      <td>3</td>\n",
       "      <td>61</td>\n",
       "      <td>30.0</td>\n",
       "      <td>225.0</td>\n",
       "      <td>150.0</td>\n",
       "      <td>95.0</td>\n",
       "      <td>103.0</td>\n",
       "    </tr>\n",
       "    <tr>\n",
       "      <td>4</td>\n",
       "      <td>46</td>\n",
       "      <td>23.0</td>\n",
       "      <td>285.0</td>\n",
       "      <td>130.0</td>\n",
       "      <td>84.0</td>\n",
       "      <td>85.0</td>\n",
       "    </tr>\n",
       "  </tbody>\n",
       "</table>\n",
       "</div>"
      ],
      "text/plain": [
       "   age  cigsPerDay  totChol  sysBP  diaBP  glucose\n",
       "0   39         0.0    195.0  106.0   70.0     77.0\n",
       "1   46         0.0    250.0  121.0   81.0     76.0\n",
       "2   48        20.0    245.0  127.5   80.0     70.0\n",
       "3   61        30.0    225.0  150.0   95.0    103.0\n",
       "4   46        23.0    285.0  130.0   84.0     85.0"
      ]
     },
     "execution_count": 284,
     "metadata": {},
     "output_type": "execute_result"
    }
   ],
   "source": [
    "X=data[['age','cigsPerDay','totChol','sysBP','diaBP','glucose']]\n",
    "X.head()"
   ]
  },
  {
   "cell_type": "code",
   "execution_count": 285,
   "metadata": {},
   "outputs": [],
   "source": [
    "from sklearn.preprocessing import StandardScaler\n",
    "sc_x=StandardScaler()\n",
    "sc_x.fit(X)\n",
    "sc_X = sc_x.transform(X)"
   ]
  },
  {
   "cell_type": "code",
   "execution_count": 286,
   "metadata": {},
   "outputs": [],
   "source": [
    "X = pd.DataFrame(sc_X, columns = X.columns)"
   ]
  },
  {
   "cell_type": "code",
   "execution_count": 287,
   "metadata": {},
   "outputs": [
    {
     "data": {
      "text/html": [
       "<div>\n",
       "<style scoped>\n",
       "    .dataframe tbody tr th:only-of-type {\n",
       "        vertical-align: middle;\n",
       "    }\n",
       "\n",
       "    .dataframe tbody tr th {\n",
       "        vertical-align: top;\n",
       "    }\n",
       "\n",
       "    .dataframe thead th {\n",
       "        text-align: right;\n",
       "    }\n",
       "</style>\n",
       "<table border=\"1\" class=\"dataframe\">\n",
       "  <thead>\n",
       "    <tr style=\"text-align: right;\">\n",
       "      <th></th>\n",
       "      <th>age</th>\n",
       "      <th>cigsPerDay</th>\n",
       "      <th>totChol</th>\n",
       "      <th>sysBP</th>\n",
       "      <th>diaBP</th>\n",
       "      <th>glucose</th>\n",
       "    </tr>\n",
       "  </thead>\n",
       "  <tbody>\n",
       "    <tr>\n",
       "      <td>0</td>\n",
       "      <td>-1.233351</td>\n",
       "      <td>-0.757068</td>\n",
       "      <td>-0.949714</td>\n",
       "      <td>-1.193695</td>\n",
       "      <td>-1.078415</td>\n",
       "      <td>-0.203127</td>\n",
       "    </tr>\n",
       "    <tr>\n",
       "      <td>1</td>\n",
       "      <td>-0.415591</td>\n",
       "      <td>-0.757068</td>\n",
       "      <td>0.297729</td>\n",
       "      <td>-0.514637</td>\n",
       "      <td>-0.159695</td>\n",
       "      <td>-0.244956</td>\n",
       "    </tr>\n",
       "    <tr>\n",
       "      <td>2</td>\n",
       "      <td>-0.181945</td>\n",
       "      <td>0.921174</td>\n",
       "      <td>0.184325</td>\n",
       "      <td>-0.220378</td>\n",
       "      <td>-0.243215</td>\n",
       "      <td>-0.495930</td>\n",
       "    </tr>\n",
       "    <tr>\n",
       "      <td>3</td>\n",
       "      <td>1.336754</td>\n",
       "      <td>1.760294</td>\n",
       "      <td>-0.269291</td>\n",
       "      <td>0.798209</td>\n",
       "      <td>1.009584</td>\n",
       "      <td>0.884427</td>\n",
       "    </tr>\n",
       "    <tr>\n",
       "      <td>4</td>\n",
       "      <td>-0.415591</td>\n",
       "      <td>1.172910</td>\n",
       "      <td>1.091556</td>\n",
       "      <td>-0.107202</td>\n",
       "      <td>0.090864</td>\n",
       "      <td>0.131505</td>\n",
       "    </tr>\n",
       "  </tbody>\n",
       "</table>\n",
       "</div>"
      ],
      "text/plain": [
       "        age  cigsPerDay   totChol     sysBP     diaBP   glucose\n",
       "0 -1.233351   -0.757068 -0.949714 -1.193695 -1.078415 -0.203127\n",
       "1 -0.415591   -0.757068  0.297729 -0.514637 -0.159695 -0.244956\n",
       "2 -0.181945    0.921174  0.184325 -0.220378 -0.243215 -0.495930\n",
       "3  1.336754    1.760294 -0.269291  0.798209  1.009584  0.884427\n",
       "4 -0.415591    1.172910  1.091556 -0.107202  0.090864  0.131505"
      ]
     },
     "execution_count": 287,
     "metadata": {},
     "output_type": "execute_result"
    }
   ],
   "source": [
    "X.head()"
   ]
  },
  {
   "cell_type": "code",
   "execution_count": 288,
   "metadata": {},
   "outputs": [],
   "source": [
    "x_train,x_test,y_train,y_test=train_test_split(X,Y,test_size=0.2,random_state=1)"
   ]
  },
  {
   "cell_type": "code",
   "execution_count": 289,
   "metadata": {},
   "outputs": [],
   "source": [
    "from sklearn.neighbors import KNeighborsClassifier"
   ]
  },
  {
   "cell_type": "code",
   "execution_count": 340,
   "metadata": {},
   "outputs": [],
   "source": [
    "KNeighborsClassifierObj = KNeighborsClassifier(n_neighbors=10)"
   ]
  },
  {
   "cell_type": "code",
   "execution_count": 341,
   "metadata": {
    "scrolled": true
   },
   "outputs": [
    {
     "data": {
      "text/plain": [
       "KNeighborsClassifier(algorithm='auto', leaf_size=30, metric='minkowski',\n",
       "                     metric_params=None, n_jobs=None, n_neighbors=10, p=2,\n",
       "                     weights='uniform')"
      ]
     },
     "execution_count": 341,
     "metadata": {},
     "output_type": "execute_result"
    }
   ],
   "source": [
    "KNeighborsClassifierObj.fit(x_train, y_train)"
   ]
  },
  {
   "cell_type": "code",
   "execution_count": 342,
   "metadata": {},
   "outputs": [],
   "source": [
    "y_predicted = KNeighborsClassifierObj.predict(x_test)"
   ]
  },
  {
   "cell_type": "code",
   "execution_count": null,
   "metadata": {},
   "outputs": [],
   "source": []
  },
  {
   "cell_type": "code",
   "execution_count": 343,
   "metadata": {},
   "outputs": [],
   "source": [
    "from sklearn.metrics import accuracy_score, balanced_accuracy_score, precision_score, f1_score, classification_report, recall_score"
   ]
  },
  {
   "cell_type": "code",
   "execution_count": 344,
   "metadata": {
    "scrolled": true
   },
   "outputs": [
    {
     "data": {
      "text/plain": [
       "0.860655737704918"
      ]
     },
     "execution_count": 344,
     "metadata": {},
     "output_type": "execute_result"
    }
   ],
   "source": [
    "\n",
    "accuracy_score(y_test, y_predicted)"
   ]
  },
  {
   "cell_type": "code",
   "execution_count": 345,
   "metadata": {},
   "outputs": [],
   "source": [
    "from sklearn.metrics import confusion_matrix"
   ]
  },
  {
   "cell_type": "code",
   "execution_count": 346,
   "metadata": {
    "scrolled": false
   },
   "outputs": [
    {
     "data": {
      "text/plain": [
       "array([[620,   7],\n",
       "       [ 95,  10]], dtype=int64)"
      ]
     },
     "execution_count": 346,
     "metadata": {},
     "output_type": "execute_result"
    }
   ],
   "source": [
    "confusion_matrix(y_test, y_predicted, labels=[0, 1])"
   ]
  },
  {
   "cell_type": "code",
   "execution_count": 347,
   "metadata": {
    "scrolled": true
   },
   "outputs": [
    {
     "data": {
      "text/plain": [
       "0.5882352941176471"
      ]
     },
     "execution_count": 347,
     "metadata": {},
     "output_type": "execute_result"
    }
   ],
   "source": [
    "precision_score(y_test, y_predicted)"
   ]
  },
  {
   "cell_type": "code",
   "execution_count": 348,
   "metadata": {},
   "outputs": [
    {
     "data": {
      "text/plain": [
       "0.8271270677249462"
      ]
     },
     "execution_count": 348,
     "metadata": {},
     "output_type": "execute_result"
    }
   ],
   "source": [
    "precision_score(y_test, y_predicted, average='weighted')"
   ]
  },
  {
   "cell_type": "code",
   "execution_count": 349,
   "metadata": {},
   "outputs": [
    {
     "data": {
      "text/plain": [
       "{'0': {'precision': 0.8671328671328671,\n",
       "  'recall': 0.988835725677831,\n",
       "  'f1-score': 0.9239940387481371,\n",
       "  'support': 627},\n",
       " '1': {'precision': 0.5882352941176471,\n",
       "  'recall': 0.09523809523809523,\n",
       "  'f1-score': 0.1639344262295082,\n",
       "  'support': 105},\n",
       " 'accuracy': 0.860655737704918,\n",
       " 'macro avg': {'precision': 0.7276840806252571,\n",
       "  'recall': 0.5420369104579631,\n",
       "  'f1-score': 0.5439642324888226,\n",
       "  'support': 732},\n",
       " 'weighted avg': {'precision': 0.8271270677249462,\n",
       "  'recall': 0.860655737704918,\n",
       "  'f1-score': 0.8149690943294813,\n",
       "  'support': 732}}"
      ]
     },
     "execution_count": 349,
     "metadata": {},
     "output_type": "execute_result"
    }
   ],
   "source": [
    "classification_report(y_test, y_predicted, output_dict = True)"
   ]
  },
  {
   "cell_type": "code",
   "execution_count": 350,
   "metadata": {},
   "outputs": [],
   "source": [
    "from sklearn.metrics import roc_curve, roc_auc_score"
   ]
  },
  {
   "cell_type": "code",
   "execution_count": 351,
   "metadata": {},
   "outputs": [
    {
     "data": {
      "text/plain": [
       "(array([0.        , 0.01116427, 1.        ]),\n",
       " array([0.       , 0.0952381, 1.       ]),\n",
       " array([2, 1, 0], dtype=int64))"
      ]
     },
     "execution_count": 351,
     "metadata": {},
     "output_type": "execute_result"
    }
   ],
   "source": [
    "fpr, tpr, thresholds = roc_curve(y_test, y_predicted, \n",
    "                                 pos_label=1)\n",
    "fpr, tpr, thresholds"
   ]
  },
  {
   "cell_type": "code",
   "execution_count": 352,
   "metadata": {},
   "outputs": [],
   "source": [
    "# Отрисовка ROC-кривой\n",
    "def draw_roc_curve(y_true, y_score, pos_label, average):\n",
    "    fpr, tpr, thresholds = roc_curve(y_true, y_score, \n",
    "                                     pos_label=pos_label)\n",
    "    roc_auc_value = roc_auc_score(y_true, y_score, average=average)\n",
    "    plt.figure()\n",
    "    lw = 2\n",
    "    plt.plot(fpr, tpr, color='darkorange',\n",
    "             lw=lw, label='ROC curve (area = %0.2f)' % roc_auc_value)\n",
    "    plt.plot([0, 1], [0, 1], color='navy', lw=lw, linestyle='--')\n",
    "    plt.xlim([0.0, 1.0])\n",
    "    plt.ylim([0.0, 1.05])\n",
    "    plt.xlabel('False Positive Rate')\n",
    "    plt.ylabel('True Positive Rate')\n",
    "    plt.title('Receiver operating characteristic example')\n",
    "    plt.legend(loc=\"lower right\")\n",
    "    plt.show()"
   ]
  },
  {
   "cell_type": "code",
   "execution_count": 355,
   "metadata": {},
   "outputs": [
    {
     "data": {
      "image/png": "[encoded data removed]",
      "text/plain": [
       "<Figure size 432x288 with 1 Axes>"
      ]
     },
     "metadata": {
      "needs_background": "light"
     },
     "output_type": "display_data"
    }
   ],
   "source": [
    "draw_roc_curve(y_test, y_predicted, pos_label=1, average='micro')"
   ]
  },
  {
   "cell_type": "code",
   "execution_count": null,
   "metadata": {},
   "outputs": [],
   "source": []
  },
  {
   "cell_type": "code",
   "execution_count": null,
   "metadata": {},
   "outputs": [],
   "source": []
  },
  {
   "cell_type": "code",
   "execution_count": 356,
   "metadata": {},
   "outputs": [],
   "source": [
    "\n",
    "from sklearn.model_selection import cross_val_score"
   ]
  },
  {
   "cell_type": "code",
   "execution_count": 362,
   "metadata": {},
   "outputs": [
    {
     "data": {
      "text/plain": [
       "(array([0.84615385, 0.84307692, 0.84394251]), 0.8443910914547464)"
      ]
     },
     "execution_count": 362,
     "metadata": {},
     "output_type": "execute_result"
    }
   ],
   "source": [
    "scores = cross_val_score(KNeighborsClassifier(n_neighbors=10), \n",
    "                         x_train, y_train, cv=3)\n",
    "scores, np.mean(scores)"
   ]
  },
  {
   "cell_type": "code",
   "execution_count": 363,
   "metadata": {},
   "outputs": [
    {
     "data": {
      "text/plain": [
       "(array([0.78570017, 0.78559065, 0.78842061]), 0.786570476970485)"
      ]
     },
     "execution_count": 363,
     "metadata": {},
     "output_type": "execute_result"
    }
   ],
   "source": [
    "scores = cross_val_score(KNeighborsClassifier(n_neighbors=10), \n",
    "                         x_train, y_train, cv=3,\n",
    "                        scoring='f1_weighted')\n",
    "scores, np.mean(scores)"
   ]
  },
  {
   "cell_type": "code",
   "execution_count": 364,
   "metadata": {},
   "outputs": [],
   "source": [
    "scoring = {'precision': 'precision_weighted', \n",
    "           'recall': 'recall_weighted',\n",
    "           'f1': 'f1_weighted'}"
   ]
  },
  {
   "cell_type": "code",
   "execution_count": 365,
   "metadata": {},
   "outputs": [],
   "source": [
    "\n",
    "from sklearn.model_selection import cross_validate"
   ]
  },
  {
   "cell_type": "code",
   "execution_count": 367,
   "metadata": {},
   "outputs": [
    {
     "data": {
      "text/plain": [
       "{'fit_time': array([0.00199366, 0.00299168, 0.00298238]),\n",
       " 'score_time': array([0.14959955, 0.14162135, 0.14560938]),\n",
       " 'test_precision': array([0.80248382, 0.7859832 , 0.78878169]),\n",
       " 'train_precision': array([0.81515087, 0.80793893, 0.83682263]),\n",
       " 'test_recall': array([0.84615385, 0.84307692, 0.84394251]),\n",
       " 'train_recall': array([0.84915341, 0.84761416, 0.85333333]),\n",
       " 'test_f1': array([0.78570017, 0.78559065, 0.78842061]),\n",
       " 'train_f1': array([0.79430568, 0.79102134, 0.80035567])}"
      ]
     },
     "execution_count": 367,
     "metadata": {},
     "output_type": "execute_result"
    }
   ],
   "source": [
    "scores = cross_validate(KNeighborsClassifier(n_neighbors=10), \n",
    "                        x_train, y_train, scoring=scoring, \n",
    "                        cv=3, return_train_score=True)\n",
    "scores"
   ]
  },
  {
   "cell_type": "code",
   "execution_count": null,
   "metadata": {},
   "outputs": [],
   "source": []
  },
  {
   "cell_type": "code",
   "execution_count": 368,
   "metadata": {},
   "outputs": [],
   "source": [
    "from sklearn.model_selection import GridSearchCV, RandomizedSearchCV"
   ]
  },
  {
   "cell_type": "code",
   "execution_count": 369,
   "metadata": {},
   "outputs": [
    {
     "data": {
      "text/plain": [
       "[{'n_neighbors': array([ 5, 10, 15, 20, 25, 30, 35])}]"
      ]
     },
     "execution_count": 369,
     "metadata": {},
     "output_type": "execute_result"
    }
   ],
   "source": [
    "n_range = np.array(range(5,40,5))\n",
    "tuned_parameters = [{'n_neighbors': n_range}]\n",
    "tuned_parameters"
   ]
  },
  {
   "cell_type": "code",
   "execution_count": 370,
   "metadata": {},
   "outputs": [
    {
     "name": "stdout",
     "output_type": "stream",
     "text": [
      "Wall time: 1.15 s\n"
     ]
    },
    {
     "data": {
      "text/plain": [
       "GridSearchCV(cv=3, error_score='raise-deprecating',\n",
       "             estimator=KNeighborsClassifier(algorithm='auto', leaf_size=30,\n",
       "                                            metric='minkowski',\n",
       "                                            metric_params=None, n_jobs=None,\n",
       "                                            n_neighbors=5, p=2,\n",
       "                                            weights='uniform'),\n",
       "             iid='warn', n_jobs=None,\n",
       "             param_grid=[{'n_neighbors': array([ 5, 10, 15, 20, 25, 30, 35])}],\n",
       "             pre_dispatch='2*n_jobs', refit=True, return_train_score=False,\n",
       "             scoring='accuracy', verbose=0)"
      ]
     },
     "execution_count": 370,
     "metadata": {},
     "output_type": "execute_result"
    }
   ],
   "source": [
    "%%time\n",
    "clf_gs = GridSearchCV(KNeighborsClassifier(), tuned_parameters, cv=3, scoring='accuracy')\n",
    "clf_gs.fit(x_train, y_train)"
   ]
  },
  {
   "cell_type": "code",
   "execution_count": 371,
   "metadata": {},
   "outputs": [
    {
     "data": {
      "text/plain": [
       "{'mean_fit_time': array([0.00299311, 0.00199485, 0.00232704, 0.00265924, 0.00299223,\n",
       "        0.00265932, 0.00265924]),\n",
       " 'std_fit_time': array([2.74612944e-06, 1.94667955e-07, 4.70471261e-04, 4.70134207e-04,\n",
       "        2.97360213e-07, 4.70021695e-04, 4.70302724e-04]),\n",
       " 'mean_score_time': array([0.04455551, 0.04521434, 0.04719599, 0.05219388, 0.05485312,\n",
       "        0.05751292, 0.05917486]),\n",
       " 'std_score_time': array([0.00236843, 0.00046924, 0.00045496, 0.00047019, 0.00081439,\n",
       "        0.00093993, 0.0004703 ]),\n",
       " 'param_n_neighbors': masked_array(data=[5, 10, 15, 20, 25, 30, 35],\n",
       "              mask=[False, False, False, False, False, False, False],\n",
       "        fill_value='?',\n",
       "             dtype=object),\n",
       " 'params': [{'n_neighbors': 5},\n",
       "  {'n_neighbors': 10},\n",
       "  {'n_neighbors': 15},\n",
       "  {'n_neighbors': 20},\n",
       "  {'n_neighbors': 25},\n",
       "  {'n_neighbors': 30},\n",
       "  {'n_neighbors': 35}],\n",
       " 'split0_test_score': array([0.83076923, 0.84615385, 0.84410256, 0.84717949, 0.84820513,\n",
       "        0.84717949, 0.84717949]),\n",
       " 'split1_test_score': array([0.83179487, 0.84307692, 0.84307692, 0.84512821, 0.84410256,\n",
       "        0.84512821, 0.84410256]),\n",
       " 'split2_test_score': array([0.8275154 , 0.84394251, 0.84394251, 0.8449692 , 0.84907598,\n",
       "        0.8449692 , 0.84702259]),\n",
       " 'mean_test_score': array([0.83002736, 0.84439124, 0.84370725, 0.84575923, 0.84712722,\n",
       "        0.84575923, 0.84610123]),\n",
       " 'std_test_score': array([0.00182404, 0.00129577, 0.00045059, 0.00100662, 0.00216864,\n",
       "        0.00100662, 0.00141508]),\n",
       " 'rank_test_score': array([7, 5, 6, 3, 1, 3, 2])}"
      ]
     },
     "execution_count": 371,
     "metadata": {},
     "output_type": "execute_result"
    }
   ],
   "source": [
    "clf_gs.cv_results_"
   ]
  },
  {
   "cell_type": "code",
   "execution_count": 372,
   "metadata": {},
   "outputs": [
    {
     "data": {
      "text/plain": [
       "KNeighborsClassifier(algorithm='auto', leaf_size=30, metric='minkowski',\n",
       "                     metric_params=None, n_jobs=None, n_neighbors=25, p=2,\n",
       "                     weights='uniform')"
      ]
     },
     "execution_count": 372,
     "metadata": {},
     "output_type": "execute_result"
    }
   ],
   "source": [
    "# Лучшая модель\n",
    "clf_gs.best_estimator_\n"
   ]
  },
  {
   "cell_type": "code",
   "execution_count": 373,
   "metadata": {},
   "outputs": [
    {
     "data": {
      "text/plain": [
       "0.8471272229822161"
      ]
     },
     "execution_count": 373,
     "metadata": {},
     "output_type": "execute_result"
    }
   ],
   "source": [
    "# Лучшее значение метрики\n",
    "clf_gs.best_score_"
   ]
  },
  {
   "cell_type": "code",
   "execution_count": 374,
   "metadata": {},
   "outputs": [
    {
     "data": {
      "text/plain": [
       "{'n_neighbors': 25}"
      ]
     },
     "execution_count": 374,
     "metadata": {},
     "output_type": "execute_result"
    }
   ],
   "source": [
    "# Лучшее значение параметров\n",
    "clf_gs.best_params_\n"
   ]
  },
  {
   "cell_type": "code",
   "execution_count": 375,
   "metadata": {},
   "outputs": [
    {
     "data": {
      "text/plain": [
       "[<matplotlib.lines.Line2D at 0x247cc9a7ac8>]"
      ]
     },
     "execution_count": 375,
     "metadata": {},
     "output_type": "execute_result"
    },
    {
     "data": {
      "image/png": "[encoded data removed]",
      "text/plain": [
       "<Figure size 432x288 with 1 Axes>"
      ]
     },
     "metadata": {
      "needs_background": "light"
     },
     "output_type": "display_data"
    }
   ],
   "source": [
    "# Изменение качества на тестовой выборке в зависимости от К-соседей\n",
    "plt.plot(n_range, clf_gs.cv_results_['mean_test_score'])"
   ]
  },
  {
   "cell_type": "code",
   "execution_count": null,
   "metadata": {},
   "outputs": [],
   "source": []
  }
 ],
 "metadata": {
  "kernelspec": {
   "display_name": "Python 3",
   "language": "python",
   "name": "python3"
  },
  "language_info": {
   "codemirror_mode": {
    "name": "ipython",
    "version": 3
   },
   "file_extension": ".py",
   "mimetype": "text/x-python",
   "name": "python",
   "nbconvert_exporter": "python",
   "pygments_lexer": "ipython3",
   "version": "3.7.4"
  }
 },
 "nbformat": 4,
 "nbformat_minor": 4
}
